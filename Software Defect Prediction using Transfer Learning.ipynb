{
 "cells": [
  {
   "cell_type": "markdown",
   "id": "35ca8062",
   "metadata": {},
   "source": [
    "# Import Libraries"
   ]
  },
  {
   "cell_type": "code",
   "execution_count": 1,
   "id": "35f839d4",
   "metadata": {},
   "outputs": [],
   "source": [
    "import numpy as np\n",
    "import pandas as pd\n",
    "import scipy.stats as stats\n",
    "import networkx as nx\n",
    "\n",
    "import math\n",
    "import urllib.request\n",
    "import io\n",
    "\n",
    "from sklearn.model_selection import train_test_split\n",
    "from sklearn import datasets\n",
    "from sklearn.feature_selection import mutual_info_classif\n",
    "from sklearn.feature_selection import f_classif\n",
    "\n",
    "from sklearn.feature_selection import SelectPercentile\n",
    "from sklearn.metrics import confusion_matrix\n",
    "from sklearn.metrics import accuracy_score\n",
    "\n",
    "from sklearn.linear_model import LogisticRegression\n",
    "from sklearn.ensemble import RandomForestClassifier\n",
    "from sklearn.svm import SVC\n",
    "\n",
    "from sklearn.preprocessing import LabelEncoder\n",
    "from scipy.io import arff\n",
    "from scipy.stats import ks_2samp\n",
    "\n",
    "from networkx.algorithms import bipartite\n",
    "from networkx import *\n",
    "from networkx.algorithms.matching import max_weight_matching\n",
    "from sklearn.model_selection import cross_val_score\n",
    "\n",
    "from numpy import mean\n",
    "from numpy import std"
   ]
  },
  {
   "cell_type": "markdown",
   "id": "ce284b4c",
   "metadata": {},
   "source": [
    "# Load Data"
   ]
  },
  {
   "cell_type": "code",
   "execution_count": 2,
   "id": "42ba33c4",
   "metadata": {},
   "outputs": [],
   "source": [
    "def loadfromfile(filename):\n",
    "    data=arff.loadarff(filename)\n",
    "    df=pd.DataFrame(data[0])\n",
    "    return df\n",
    "def loadfromurl(url):\n",
    "    ftpstream=urllib.request.urlopen(url)\n",
    "    data=arff.loadarff(io.StringIO(ftpstream.read().decode('utf-8')))\n",
    "    df=pd.DataFrame(data[0])\n",
    "    return df"
   ]
  },
  {
   "cell_type": "code",
   "execution_count": 3,
   "id": "028b612f",
   "metadata": {},
   "outputs": [],
   "source": [
    "source_path=r\"Datasets\\NASA\\CM1.arff\"\n",
    "target_path=r\"Datasets\\NASA\\MC1.arff\"\n",
    "source_df=loadfromfile(source_path)\n",
    "target_df=loadfromfile(target_path)"
   ]
  },
  {
   "cell_type": "markdown",
   "id": "e128f9be",
   "metadata": {},
   "source": [
    "## Source data preprocessing"
   ]
  },
  {
   "cell_type": "code",
   "execution_count": 4,
   "id": "4fa29960",
   "metadata": {},
   "outputs": [],
   "source": [
    "last_col=source_df.iloc[:,-1:]\n",
    "source_df.loc[:,'Defects']=1\n",
    "labelencoder=LabelEncoder()\n",
    "source_df['Defects']=labelencoder.fit_transform(last_col.values.ravel())\n",
    "source_df=source_df.drop(source_df.columns[-2],axis=1)"
   ]
  },
  {
   "cell_type": "code",
   "execution_count": 5,
   "id": "88d39cd7",
   "metadata": {},
   "outputs": [],
   "source": [
    "s_X = source_df.drop(['Defects'],axis=1)\n",
    "s_y = source_df['Defects']"
   ]
  },
  {
   "cell_type": "markdown",
   "id": "9e0c3eed",
   "metadata": {},
   "source": [
    "## Target data preprocessing"
   ]
  },
  {
   "cell_type": "code",
   "execution_count": 6,
   "id": "f1531f39",
   "metadata": {},
   "outputs": [],
   "source": [
    "last_col=target_df.iloc[:,-1:]\n",
    "target_df.loc[:,'Defects']=1\n",
    "labelencoder=LabelEncoder()\n",
    "target_df['Defects']=labelencoder.fit_transform(last_col.values.ravel()) \n",
    "target_df=target_df.drop(target_df.columns[-2],axis=1)"
   ]
  },
  {
   "cell_type": "code",
   "execution_count": 7,
   "id": "19d59779",
   "metadata": {},
   "outputs": [],
   "source": [
    "t_X = target_df.drop(['Defects'],axis=1)\n",
    "t_y = target_df['Defects']"
   ]
  },
  {
   "cell_type": "code",
   "execution_count": 8,
   "id": "f302dd39",
   "metadata": {},
   "outputs": [
    {
     "name": "stdout",
     "output_type": "stream",
     "text": [
      "<class 'pandas.core.frame.DataFrame'>\n",
      "RangeIndex: 1988 entries, 0 to 1987\n",
      "Data columns (total 38 columns):\n",
      " #   Column                           Non-Null Count  Dtype  \n",
      "---  ------                           --------------  -----  \n",
      " 0   LOC_BLANK                        1988 non-null   float64\n",
      " 1   BRANCH_COUNT                     1988 non-null   float64\n",
      " 2   CALL_PAIRS                       1988 non-null   float64\n",
      " 3   LOC_CODE_AND_COMMENT             1988 non-null   float64\n",
      " 4   LOC_COMMENTS                     1988 non-null   float64\n",
      " 5   CONDITION_COUNT                  1988 non-null   float64\n",
      " 6   CYCLOMATIC_COMPLEXITY            1988 non-null   float64\n",
      " 7   CYCLOMATIC_DENSITY               1988 non-null   float64\n",
      " 8   DECISION_COUNT                   1988 non-null   float64\n",
      " 9   DESIGN_COMPLEXITY                1988 non-null   float64\n",
      " 10  DESIGN_DENSITY                   1988 non-null   float64\n",
      " 11  EDGE_COUNT                       1988 non-null   float64\n",
      " 12  ESSENTIAL_COMPLEXITY             1988 non-null   float64\n",
      " 13  ESSENTIAL_DENSITY                1988 non-null   float64\n",
      " 14  LOC_EXECUTABLE                   1988 non-null   float64\n",
      " 15  PARAMETER_COUNT                  1988 non-null   float64\n",
      " 16  GLOBAL_DATA_COMPLEXITY           1988 non-null   float64\n",
      " 17  GLOBAL_DATA_DENSITY              1988 non-null   float64\n",
      " 18  HALSTEAD_CONTENT                 1988 non-null   float64\n",
      " 19  HALSTEAD_DIFFICULTY              1988 non-null   float64\n",
      " 20  HALSTEAD_EFFORT                  1988 non-null   float64\n",
      " 21  HALSTEAD_ERROR_EST               1988 non-null   float64\n",
      " 22  HALSTEAD_LENGTH                  1988 non-null   float64\n",
      " 23  HALSTEAD_LEVEL                   1988 non-null   float64\n",
      " 24  HALSTEAD_PROG_TIME               1988 non-null   float64\n",
      " 25  HALSTEAD_VOLUME                  1988 non-null   float64\n",
      " 26  MAINTENANCE_SEVERITY             1988 non-null   float64\n",
      " 27  MODIFIED_CONDITION_COUNT         1988 non-null   float64\n",
      " 28  MULTIPLE_CONDITION_COUNT         1988 non-null   float64\n",
      " 29  NODE_COUNT                       1988 non-null   float64\n",
      " 30  NORMALIZED_CYLOMATIC_COMPLEXITY  1988 non-null   float64\n",
      " 31  NUM_OPERANDS                     1988 non-null   float64\n",
      " 32  NUM_OPERATORS                    1988 non-null   float64\n",
      " 33  NUM_UNIQUE_OPERANDS              1988 non-null   float64\n",
      " 34  NUM_UNIQUE_OPERATORS             1988 non-null   float64\n",
      " 35  NUMBER_OF_LINES                  1988 non-null   float64\n",
      " 36  PERCENT_COMMENTS                 1988 non-null   float64\n",
      " 37  LOC_TOTAL                        1988 non-null   float64\n",
      "dtypes: float64(38)\n",
      "memory usage: 590.3 KB\n"
     ]
    }
   ],
   "source": [
    "t_X.info()"
   ]
  },
  {
   "cell_type": "code",
   "execution_count": 9,
   "id": "c57b1d2a",
   "metadata": {},
   "outputs": [
    {
     "data": {
      "text/plain": [
       "0       0\n",
       "1       0\n",
       "2       0\n",
       "3       0\n",
       "4       0\n",
       "       ..\n",
       "1983    0\n",
       "1984    0\n",
       "1985    0\n",
       "1986    0\n",
       "1987    0\n",
       "Name: Defects, Length: 1988, dtype: int32"
      ]
     },
     "execution_count": 9,
     "metadata": {},
     "output_type": "execute_result"
    }
   ],
   "source": [
    "t_y"
   ]
  },
  {
   "cell_type": "markdown",
   "id": "21212291",
   "metadata": {},
   "source": [
    "# Metric Selection in Source Datasets"
   ]
  },
  {
   "cell_type": "code",
   "execution_count": 10,
   "id": "3e4d3705",
   "metadata": {},
   "outputs": [],
   "source": [
    "selected_top_features=SelectPercentile(mutual_info_classif,percentile=15)\n",
    "selected_top_features.fit(s_X,s_y)\n",
    "top_features=s_X.columns[selected_top_features.get_support()]"
   ]
  },
  {
   "cell_type": "code",
   "execution_count": 11,
   "id": "7f8c62b5",
   "metadata": {},
   "outputs": [
    {
     "data": {
      "text/plain": [
       "Index(['CALL_PAIRS', 'LOC_COMMENTS', 'LOC_EXECUTABLE', 'HALSTEAD_CONTENT',\n",
       "       'NUM_OPERATORS', 'NUM_UNIQUE_OPERANDS'],\n",
       "      dtype='object')"
      ]
     },
     "execution_count": 11,
     "metadata": {},
     "output_type": "execute_result"
    }
   ],
   "source": [
    "top_features"
   ]
  },
  {
   "cell_type": "markdown",
   "id": "4ce39fc5",
   "metadata": {},
   "source": [
    "# Matching Source and Target Metrics"
   ]
  },
  {
   "cell_type": "code",
   "execution_count": 12,
   "id": "bbaacce2",
   "metadata": {},
   "outputs": [],
   "source": [
    "ks_values=[]\n",
    "for sinstances in top_features:\n",
    "    for tinstances in t_X.columns:\n",
    "        x=ks_2samp(source_df[sinstances],target_df[tinstances])\n",
    "        ks_value=(sinstances,tinstances,x)\n",
    "        ks_values.append(ks_value)"
   ]
  },
  {
   "cell_type": "code",
   "execution_count": 13,
   "id": "e130940a",
   "metadata": {},
   "outputs": [
    {
     "data": {
      "text/plain": [
       "[('NUM_UNIQUE_OPERANDS', 'HALSTEAD_CONTENT', 0.0723166933377617),\n",
       " ('LOC_EXECUTABLE', 'HALSTEAD_CONTENT', 0.0009477093096285083),\n",
       " ('NUM_UNIQUE_OPERANDS', 'NUMBER_OF_LINES', 0.00012245067805405352),\n",
       " ('NUM_UNIQUE_OPERANDS', 'NUM_OPERATORS', 0.0001071398716228078),\n",
       " ('CALL_PAIRS', 'LOC_BLANK', 3.217885129314091e-05),\n",
       " ('LOC_COMMENTS', 'PERCENT_COMMENTS', 1.8865872676410156e-05),\n",
       " ('LOC_EXECUTABLE', 'NUM_OPERATORS', 2.5121310260889373e-06),\n",
       " ('CALL_PAIRS', 'BRANCH_COUNT', 1.9636606721773475e-06),\n",
       " ('CALL_PAIRS', 'CYCLOMATIC_COMPLEXITY', 1.9636606721773475e-06),\n",
       " ('CALL_PAIRS', 'CALL_PAIRS', 1.7151198249409916e-06),\n",
       " ('LOC_COMMENTS', 'LOC_EXECUTABLE', 3.5113507768080865e-07),\n",
       " ('NUM_UNIQUE_OPERANDS', 'NUM_OPERANDS', 1.0594056876200852e-07),\n",
       " ('NUM_OPERATORS', 'HALSTEAD_LENGTH', 4.756962379559582e-09),\n",
       " ('LOC_COMMENTS', 'LOC_TOTAL', 4.082629789792236e-09),\n",
       " ('HALSTEAD_CONTENT', 'HALSTEAD_LENGTH', 7.687194214511806e-10),\n",
       " ('LOC_COMMENTS', 'CONDITION_COUNT', 2.2745505479093708e-10),\n",
       " ('CALL_PAIRS', 'DECISION_COUNT', 4.677702669653172e-12),\n",
       " ('CALL_PAIRS', 'MULTIPLE_CONDITION_COUNT', 4.677702669653172e-12),\n",
       " ('LOC_EXECUTABLE', 'NUMBER_OF_LINES', 4.483080573436382e-12),\n",
       " ('LOC_COMMENTS', 'NUM_UNIQUE_OPERANDS', 2.5499602429590595e-12),\n",
       " ('LOC_COMMENTS', 'EDGE_COUNT', 1.989852727035668e-12),\n",
       " ('LOC_COMMENTS', 'NUM_OPERANDS', 6.328271240363392e-14),\n",
       " ('NUM_OPERATORS', 'HALSTEAD_PROG_TIME', 2.6756374893466273e-14),\n",
       " ('CALL_PAIRS', 'MODIFIED_CONDITION_COUNT', 4.107825191113079e-15),\n",
       " ('LOC_COMMENTS', 'HALSTEAD_DIFFICULTY', 4.107825191113079e-15),\n",
       " ('CALL_PAIRS', 'LOC_CODE_AND_COMMENT', 1.5543122344752192e-15),\n",
       " ('CALL_PAIRS', 'LOC_COMMENTS', 1.5543122344752192e-15),\n",
       " ('CALL_PAIRS', 'CONDITION_COUNT', 1.5543122344752192e-15),\n",
       " ('CALL_PAIRS', 'CYCLOMATIC_DENSITY', 1.5543122344752192e-15),\n",
       " ('CALL_PAIRS', 'DESIGN_COMPLEXITY', 1.5543122344752192e-15),\n",
       " ('CALL_PAIRS', 'DESIGN_DENSITY', 1.5543122344752192e-15),\n",
       " ('CALL_PAIRS', 'EDGE_COUNT', 1.5543122344752192e-15),\n",
       " ('CALL_PAIRS', 'ESSENTIAL_COMPLEXITY', 1.5543122344752192e-15),\n",
       " ('CALL_PAIRS', 'ESSENTIAL_DENSITY', 1.5543122344752192e-15),\n",
       " ('CALL_PAIRS', 'LOC_EXECUTABLE', 1.5543122344752192e-15),\n",
       " ('CALL_PAIRS', 'PARAMETER_COUNT', 1.5543122344752192e-15),\n",
       " ('CALL_PAIRS', 'GLOBAL_DATA_COMPLEXITY', 1.5543122344752192e-15),\n",
       " ('CALL_PAIRS', 'GLOBAL_DATA_DENSITY', 1.5543122344752192e-15),\n",
       " ('CALL_PAIRS', 'HALSTEAD_CONTENT', 1.5543122344752192e-15),\n",
       " ('CALL_PAIRS', 'HALSTEAD_DIFFICULTY', 1.5543122344752192e-15),\n",
       " ('CALL_PAIRS', 'HALSTEAD_EFFORT', 1.5543122344752192e-15),\n",
       " ('CALL_PAIRS', 'HALSTEAD_ERROR_EST', 1.5543122344752192e-15),\n",
       " ('CALL_PAIRS', 'HALSTEAD_LENGTH', 1.5543122344752192e-15),\n",
       " ('CALL_PAIRS', 'HALSTEAD_LEVEL', 1.5543122344752192e-15),\n",
       " ('CALL_PAIRS', 'HALSTEAD_PROG_TIME', 1.5543122344752192e-15),\n",
       " ('CALL_PAIRS', 'HALSTEAD_VOLUME', 1.5543122344752192e-15),\n",
       " ('CALL_PAIRS', 'MAINTENANCE_SEVERITY', 1.5543122344752192e-15),\n",
       " ('CALL_PAIRS', 'NODE_COUNT', 1.5543122344752192e-15),\n",
       " ('CALL_PAIRS', 'NORMALIZED_CYLOMATIC_COMPLEXITY', 1.5543122344752192e-15),\n",
       " ('CALL_PAIRS', 'NUM_OPERANDS', 1.5543122344752192e-15),\n",
       " ('CALL_PAIRS', 'NUM_OPERATORS', 1.5543122344752192e-15),\n",
       " ('CALL_PAIRS', 'NUM_UNIQUE_OPERANDS', 1.5543122344752192e-15),\n",
       " ('CALL_PAIRS', 'NUM_UNIQUE_OPERATORS', 1.5543122344752192e-15),\n",
       " ('CALL_PAIRS', 'NUMBER_OF_LINES', 1.5543122344752192e-15),\n",
       " ('CALL_PAIRS', 'PERCENT_COMMENTS', 1.5543122344752192e-15),\n",
       " ('CALL_PAIRS', 'LOC_TOTAL', 1.5543122344752192e-15),\n",
       " ('LOC_COMMENTS', 'LOC_BLANK', 1.5543122344752192e-15),\n",
       " ('LOC_COMMENTS', 'BRANCH_COUNT', 1.5543122344752192e-15),\n",
       " ('LOC_COMMENTS', 'CALL_PAIRS', 1.5543122344752192e-15),\n",
       " ('LOC_COMMENTS', 'LOC_CODE_AND_COMMENT', 1.5543122344752192e-15),\n",
       " ('LOC_COMMENTS', 'LOC_COMMENTS', 1.5543122344752192e-15),\n",
       " ('LOC_COMMENTS', 'CYCLOMATIC_COMPLEXITY', 1.5543122344752192e-15),\n",
       " ('LOC_COMMENTS', 'CYCLOMATIC_DENSITY', 1.5543122344752192e-15),\n",
       " ('LOC_COMMENTS', 'DECISION_COUNT', 1.5543122344752192e-15),\n",
       " ('LOC_COMMENTS', 'DESIGN_COMPLEXITY', 1.5543122344752192e-15),\n",
       " ('LOC_COMMENTS', 'DESIGN_DENSITY', 1.5543122344752192e-15),\n",
       " ('LOC_COMMENTS', 'ESSENTIAL_COMPLEXITY', 1.5543122344752192e-15),\n",
       " ('LOC_COMMENTS', 'ESSENTIAL_DENSITY', 1.5543122344752192e-15),\n",
       " ('LOC_COMMENTS', 'PARAMETER_COUNT', 1.5543122344752192e-15),\n",
       " ('LOC_COMMENTS', 'GLOBAL_DATA_COMPLEXITY', 1.5543122344752192e-15),\n",
       " ('LOC_COMMENTS', 'GLOBAL_DATA_DENSITY', 1.5543122344752192e-15),\n",
       " ('LOC_COMMENTS', 'HALSTEAD_CONTENT', 1.5543122344752192e-15),\n",
       " ('LOC_COMMENTS', 'HALSTEAD_EFFORT', 1.5543122344752192e-15),\n",
       " ('LOC_COMMENTS', 'HALSTEAD_ERROR_EST', 1.5543122344752192e-15),\n",
       " ('LOC_COMMENTS', 'HALSTEAD_LENGTH', 1.5543122344752192e-15),\n",
       " ('LOC_COMMENTS', 'HALSTEAD_LEVEL', 1.5543122344752192e-15),\n",
       " ('LOC_COMMENTS', 'HALSTEAD_PROG_TIME', 1.5543122344752192e-15),\n",
       " ('LOC_COMMENTS', 'HALSTEAD_VOLUME', 1.5543122344752192e-15),\n",
       " ('LOC_COMMENTS', 'MAINTENANCE_SEVERITY', 1.5543122344752192e-15),\n",
       " ('LOC_COMMENTS', 'MODIFIED_CONDITION_COUNT', 1.5543122344752192e-15),\n",
       " ('LOC_COMMENTS', 'MULTIPLE_CONDITION_COUNT', 1.5543122344752192e-15),\n",
       " ('LOC_COMMENTS', 'NODE_COUNT', 1.5543122344752192e-15),\n",
       " ('LOC_COMMENTS', 'NORMALIZED_CYLOMATIC_COMPLEXITY', 1.5543122344752192e-15),\n",
       " ('LOC_COMMENTS', 'NUM_OPERATORS', 1.5543122344752192e-15),\n",
       " ('LOC_COMMENTS', 'NUM_UNIQUE_OPERATORS', 1.5543122344752192e-15),\n",
       " ('LOC_COMMENTS', 'NUMBER_OF_LINES', 1.5543122344752192e-15),\n",
       " ('LOC_EXECUTABLE', 'LOC_BLANK', 1.5543122344752192e-15),\n",
       " ('LOC_EXECUTABLE', 'BRANCH_COUNT', 1.5543122344752192e-15),\n",
       " ('LOC_EXECUTABLE', 'CALL_PAIRS', 1.5543122344752192e-15),\n",
       " ('LOC_EXECUTABLE', 'LOC_CODE_AND_COMMENT', 1.5543122344752192e-15),\n",
       " ('LOC_EXECUTABLE', 'LOC_COMMENTS', 1.5543122344752192e-15),\n",
       " ('LOC_EXECUTABLE', 'CONDITION_COUNT', 1.5543122344752192e-15),\n",
       " ('LOC_EXECUTABLE', 'CYCLOMATIC_COMPLEXITY', 1.5543122344752192e-15),\n",
       " ('LOC_EXECUTABLE', 'CYCLOMATIC_DENSITY', 1.5543122344752192e-15),\n",
       " ('LOC_EXECUTABLE', 'DECISION_COUNT', 1.5543122344752192e-15),\n",
       " ('LOC_EXECUTABLE', 'DESIGN_COMPLEXITY', 1.5543122344752192e-15),\n",
       " ('LOC_EXECUTABLE', 'DESIGN_DENSITY', 1.5543122344752192e-15),\n",
       " ('LOC_EXECUTABLE', 'EDGE_COUNT', 1.5543122344752192e-15),\n",
       " ('LOC_EXECUTABLE', 'ESSENTIAL_COMPLEXITY', 1.5543122344752192e-15),\n",
       " ('LOC_EXECUTABLE', 'ESSENTIAL_DENSITY', 1.5543122344752192e-15),\n",
       " ('LOC_EXECUTABLE', 'LOC_EXECUTABLE', 1.5543122344752192e-15),\n",
       " ('LOC_EXECUTABLE', 'PARAMETER_COUNT', 1.5543122344752192e-15),\n",
       " ('LOC_EXECUTABLE', 'GLOBAL_DATA_COMPLEXITY', 1.5543122344752192e-15),\n",
       " ('LOC_EXECUTABLE', 'GLOBAL_DATA_DENSITY', 1.5543122344752192e-15),\n",
       " ('LOC_EXECUTABLE', 'HALSTEAD_DIFFICULTY', 1.5543122344752192e-15),\n",
       " ('LOC_EXECUTABLE', 'HALSTEAD_EFFORT', 1.5543122344752192e-15),\n",
       " ('LOC_EXECUTABLE', 'HALSTEAD_ERROR_EST', 1.5543122344752192e-15),\n",
       " ('LOC_EXECUTABLE', 'HALSTEAD_LENGTH', 1.5543122344752192e-15),\n",
       " ('LOC_EXECUTABLE', 'HALSTEAD_LEVEL', 1.5543122344752192e-15),\n",
       " ('LOC_EXECUTABLE', 'HALSTEAD_PROG_TIME', 1.5543122344752192e-15),\n",
       " ('LOC_EXECUTABLE', 'HALSTEAD_VOLUME', 1.5543122344752192e-15),\n",
       " ('LOC_EXECUTABLE', 'MAINTENANCE_SEVERITY', 1.5543122344752192e-15),\n",
       " ('LOC_EXECUTABLE', 'MODIFIED_CONDITION_COUNT', 1.5543122344752192e-15),\n",
       " ('LOC_EXECUTABLE', 'MULTIPLE_CONDITION_COUNT', 1.5543122344752192e-15),\n",
       " ('LOC_EXECUTABLE', 'NODE_COUNT', 1.5543122344752192e-15),\n",
       " ('LOC_EXECUTABLE', 'NORMALIZED_CYLOMATIC_COMPLEXITY', 1.5543122344752192e-15),\n",
       " ('LOC_EXECUTABLE', 'NUM_OPERANDS', 1.5543122344752192e-15),\n",
       " ('LOC_EXECUTABLE', 'NUM_UNIQUE_OPERANDS', 1.5543122344752192e-15),\n",
       " ('LOC_EXECUTABLE', 'NUM_UNIQUE_OPERATORS', 1.5543122344752192e-15),\n",
       " ('LOC_EXECUTABLE', 'PERCENT_COMMENTS', 1.5543122344752192e-15),\n",
       " ('LOC_EXECUTABLE', 'LOC_TOTAL', 1.5543122344752192e-15),\n",
       " ('HALSTEAD_CONTENT', 'LOC_BLANK', 1.5543122344752192e-15),\n",
       " ('HALSTEAD_CONTENT', 'BRANCH_COUNT', 1.5543122344752192e-15),\n",
       " ('HALSTEAD_CONTENT', 'CALL_PAIRS', 1.5543122344752192e-15),\n",
       " ('HALSTEAD_CONTENT', 'LOC_CODE_AND_COMMENT', 1.5543122344752192e-15),\n",
       " ('HALSTEAD_CONTENT', 'LOC_COMMENTS', 1.5543122344752192e-15),\n",
       " ('HALSTEAD_CONTENT', 'CONDITION_COUNT', 1.5543122344752192e-15),\n",
       " ('HALSTEAD_CONTENT', 'CYCLOMATIC_COMPLEXITY', 1.5543122344752192e-15),\n",
       " ('HALSTEAD_CONTENT', 'CYCLOMATIC_DENSITY', 1.5543122344752192e-15),\n",
       " ('HALSTEAD_CONTENT', 'DECISION_COUNT', 1.5543122344752192e-15),\n",
       " ('HALSTEAD_CONTENT', 'DESIGN_COMPLEXITY', 1.5543122344752192e-15),\n",
       " ('HALSTEAD_CONTENT', 'DESIGN_DENSITY', 1.5543122344752192e-15),\n",
       " ('HALSTEAD_CONTENT', 'EDGE_COUNT', 1.5543122344752192e-15),\n",
       " ('HALSTEAD_CONTENT', 'ESSENTIAL_COMPLEXITY', 1.5543122344752192e-15),\n",
       " ('HALSTEAD_CONTENT', 'ESSENTIAL_DENSITY', 1.5543122344752192e-15),\n",
       " ('HALSTEAD_CONTENT', 'LOC_EXECUTABLE', 1.5543122344752192e-15),\n",
       " ('HALSTEAD_CONTENT', 'PARAMETER_COUNT', 1.5543122344752192e-15),\n",
       " ('HALSTEAD_CONTENT', 'GLOBAL_DATA_COMPLEXITY', 1.5543122344752192e-15),\n",
       " ('HALSTEAD_CONTENT', 'GLOBAL_DATA_DENSITY', 1.5543122344752192e-15),\n",
       " ('HALSTEAD_CONTENT', 'HALSTEAD_CONTENT', 1.5543122344752192e-15),\n",
       " ('HALSTEAD_CONTENT', 'HALSTEAD_DIFFICULTY', 1.5543122344752192e-15),\n",
       " ('HALSTEAD_CONTENT', 'HALSTEAD_EFFORT', 1.5543122344752192e-15),\n",
       " ('HALSTEAD_CONTENT', 'HALSTEAD_ERROR_EST', 1.5543122344752192e-15),\n",
       " ('HALSTEAD_CONTENT', 'HALSTEAD_LEVEL', 1.5543122344752192e-15),\n",
       " ('HALSTEAD_CONTENT', 'HALSTEAD_PROG_TIME', 1.5543122344752192e-15),\n",
       " ('HALSTEAD_CONTENT', 'HALSTEAD_VOLUME', 1.5543122344752192e-15),\n",
       " ('HALSTEAD_CONTENT', 'MAINTENANCE_SEVERITY', 1.5543122344752192e-15),\n",
       " ('HALSTEAD_CONTENT', 'MODIFIED_CONDITION_COUNT', 1.5543122344752192e-15),\n",
       " ('HALSTEAD_CONTENT', 'MULTIPLE_CONDITION_COUNT', 1.5543122344752192e-15),\n",
       " ('HALSTEAD_CONTENT', 'NODE_COUNT', 1.5543122344752192e-15),\n",
       " ('HALSTEAD_CONTENT',\n",
       "  'NORMALIZED_CYLOMATIC_COMPLEXITY',\n",
       "  1.5543122344752192e-15),\n",
       " ('HALSTEAD_CONTENT', 'NUM_OPERANDS', 1.5543122344752192e-15),\n",
       " ('HALSTEAD_CONTENT', 'NUM_OPERATORS', 1.5543122344752192e-15),\n",
       " ('HALSTEAD_CONTENT', 'NUM_UNIQUE_OPERANDS', 1.5543122344752192e-15),\n",
       " ('HALSTEAD_CONTENT', 'NUM_UNIQUE_OPERATORS', 1.5543122344752192e-15),\n",
       " ('HALSTEAD_CONTENT', 'NUMBER_OF_LINES', 1.5543122344752192e-15),\n",
       " ('HALSTEAD_CONTENT', 'PERCENT_COMMENTS', 1.5543122344752192e-15),\n",
       " ('HALSTEAD_CONTENT', 'LOC_TOTAL', 1.5543122344752192e-15),\n",
       " ('NUM_OPERATORS', 'LOC_BLANK', 1.5543122344752192e-15),\n",
       " ('NUM_OPERATORS', 'BRANCH_COUNT', 1.5543122344752192e-15),\n",
       " ('NUM_OPERATORS', 'CALL_PAIRS', 1.5543122344752192e-15),\n",
       " ('NUM_OPERATORS', 'LOC_CODE_AND_COMMENT', 1.5543122344752192e-15),\n",
       " ('NUM_OPERATORS', 'LOC_COMMENTS', 1.5543122344752192e-15),\n",
       " ('NUM_OPERATORS', 'CONDITION_COUNT', 1.5543122344752192e-15),\n",
       " ('NUM_OPERATORS', 'CYCLOMATIC_COMPLEXITY', 1.5543122344752192e-15),\n",
       " ('NUM_OPERATORS', 'CYCLOMATIC_DENSITY', 1.5543122344752192e-15),\n",
       " ('NUM_OPERATORS', 'DECISION_COUNT', 1.5543122344752192e-15),\n",
       " ('NUM_OPERATORS', 'DESIGN_COMPLEXITY', 1.5543122344752192e-15),\n",
       " ('NUM_OPERATORS', 'DESIGN_DENSITY', 1.5543122344752192e-15),\n",
       " ('NUM_OPERATORS', 'EDGE_COUNT', 1.5543122344752192e-15),\n",
       " ('NUM_OPERATORS', 'ESSENTIAL_COMPLEXITY', 1.5543122344752192e-15),\n",
       " ('NUM_OPERATORS', 'ESSENTIAL_DENSITY', 1.5543122344752192e-15),\n",
       " ('NUM_OPERATORS', 'LOC_EXECUTABLE', 1.5543122344752192e-15),\n",
       " ('NUM_OPERATORS', 'PARAMETER_COUNT', 1.5543122344752192e-15),\n",
       " ('NUM_OPERATORS', 'GLOBAL_DATA_COMPLEXITY', 1.5543122344752192e-15),\n",
       " ('NUM_OPERATORS', 'GLOBAL_DATA_DENSITY', 1.5543122344752192e-15),\n",
       " ('NUM_OPERATORS', 'HALSTEAD_CONTENT', 1.5543122344752192e-15),\n",
       " ('NUM_OPERATORS', 'HALSTEAD_DIFFICULTY', 1.5543122344752192e-15),\n",
       " ('NUM_OPERATORS', 'HALSTEAD_EFFORT', 1.5543122344752192e-15),\n",
       " ('NUM_OPERATORS', 'HALSTEAD_ERROR_EST', 1.5543122344752192e-15),\n",
       " ('NUM_OPERATORS', 'HALSTEAD_LEVEL', 1.5543122344752192e-15),\n",
       " ('NUM_OPERATORS', 'HALSTEAD_VOLUME', 1.5543122344752192e-15),\n",
       " ('NUM_OPERATORS', 'MAINTENANCE_SEVERITY', 1.5543122344752192e-15),\n",
       " ('NUM_OPERATORS', 'MODIFIED_CONDITION_COUNT', 1.5543122344752192e-15),\n",
       " ('NUM_OPERATORS', 'MULTIPLE_CONDITION_COUNT', 1.5543122344752192e-15),\n",
       " ('NUM_OPERATORS', 'NODE_COUNT', 1.5543122344752192e-15),\n",
       " ('NUM_OPERATORS', 'NORMALIZED_CYLOMATIC_COMPLEXITY', 1.5543122344752192e-15),\n",
       " ('NUM_OPERATORS', 'NUM_OPERANDS', 1.5543122344752192e-15),\n",
       " ('NUM_OPERATORS', 'NUM_OPERATORS', 1.5543122344752192e-15),\n",
       " ('NUM_OPERATORS', 'NUM_UNIQUE_OPERANDS', 1.5543122344752192e-15),\n",
       " ('NUM_OPERATORS', 'NUM_UNIQUE_OPERATORS', 1.5543122344752192e-15),\n",
       " ('NUM_OPERATORS', 'NUMBER_OF_LINES', 1.5543122344752192e-15),\n",
       " ('NUM_OPERATORS', 'PERCENT_COMMENTS', 1.5543122344752192e-15),\n",
       " ('NUM_OPERATORS', 'LOC_TOTAL', 1.5543122344752192e-15),\n",
       " ('NUM_UNIQUE_OPERANDS', 'LOC_BLANK', 1.5543122344752192e-15),\n",
       " ('NUM_UNIQUE_OPERANDS', 'BRANCH_COUNT', 1.5543122344752192e-15),\n",
       " ('NUM_UNIQUE_OPERANDS', 'CALL_PAIRS', 1.5543122344752192e-15),\n",
       " ('NUM_UNIQUE_OPERANDS', 'LOC_CODE_AND_COMMENT', 1.5543122344752192e-15),\n",
       " ('NUM_UNIQUE_OPERANDS', 'LOC_COMMENTS', 1.5543122344752192e-15),\n",
       " ('NUM_UNIQUE_OPERANDS', 'CONDITION_COUNT', 1.5543122344752192e-15),\n",
       " ('NUM_UNIQUE_OPERANDS', 'CYCLOMATIC_COMPLEXITY', 1.5543122344752192e-15),\n",
       " ('NUM_UNIQUE_OPERANDS', 'CYCLOMATIC_DENSITY', 1.5543122344752192e-15),\n",
       " ('NUM_UNIQUE_OPERANDS', 'DECISION_COUNT', 1.5543122344752192e-15),\n",
       " ('NUM_UNIQUE_OPERANDS', 'DESIGN_COMPLEXITY', 1.5543122344752192e-15),\n",
       " ('NUM_UNIQUE_OPERANDS', 'DESIGN_DENSITY', 1.5543122344752192e-15),\n",
       " ('NUM_UNIQUE_OPERANDS', 'EDGE_COUNT', 1.5543122344752192e-15),\n",
       " ('NUM_UNIQUE_OPERANDS', 'ESSENTIAL_COMPLEXITY', 1.5543122344752192e-15),\n",
       " ('NUM_UNIQUE_OPERANDS', 'ESSENTIAL_DENSITY', 1.5543122344752192e-15),\n",
       " ('NUM_UNIQUE_OPERANDS', 'LOC_EXECUTABLE', 1.5543122344752192e-15),\n",
       " ('NUM_UNIQUE_OPERANDS', 'PARAMETER_COUNT', 1.5543122344752192e-15),\n",
       " ('NUM_UNIQUE_OPERANDS', 'GLOBAL_DATA_COMPLEXITY', 1.5543122344752192e-15),\n",
       " ('NUM_UNIQUE_OPERANDS', 'GLOBAL_DATA_DENSITY', 1.5543122344752192e-15),\n",
       " ('NUM_UNIQUE_OPERANDS', 'HALSTEAD_DIFFICULTY', 1.5543122344752192e-15),\n",
       " ('NUM_UNIQUE_OPERANDS', 'HALSTEAD_EFFORT', 1.5543122344752192e-15),\n",
       " ('NUM_UNIQUE_OPERANDS', 'HALSTEAD_ERROR_EST', 1.5543122344752192e-15),\n",
       " ('NUM_UNIQUE_OPERANDS', 'HALSTEAD_LENGTH', 1.5543122344752192e-15),\n",
       " ('NUM_UNIQUE_OPERANDS', 'HALSTEAD_LEVEL', 1.5543122344752192e-15),\n",
       " ('NUM_UNIQUE_OPERANDS', 'HALSTEAD_PROG_TIME', 1.5543122344752192e-15),\n",
       " ('NUM_UNIQUE_OPERANDS', 'HALSTEAD_VOLUME', 1.5543122344752192e-15),\n",
       " ('NUM_UNIQUE_OPERANDS', 'MAINTENANCE_SEVERITY', 1.5543122344752192e-15),\n",
       " ('NUM_UNIQUE_OPERANDS', 'MODIFIED_CONDITION_COUNT', 1.5543122344752192e-15),\n",
       " ('NUM_UNIQUE_OPERANDS', 'MULTIPLE_CONDITION_COUNT', 1.5543122344752192e-15),\n",
       " ('NUM_UNIQUE_OPERANDS', 'NODE_COUNT', 1.5543122344752192e-15),\n",
       " ('NUM_UNIQUE_OPERANDS',\n",
       "  'NORMALIZED_CYLOMATIC_COMPLEXITY',\n",
       "  1.5543122344752192e-15),\n",
       " ('NUM_UNIQUE_OPERANDS', 'NUM_UNIQUE_OPERANDS', 1.5543122344752192e-15),\n",
       " ('NUM_UNIQUE_OPERANDS', 'NUM_UNIQUE_OPERATORS', 1.5543122344752192e-15),\n",
       " ('NUM_UNIQUE_OPERANDS', 'PERCENT_COMMENTS', 1.5543122344752192e-15),\n",
       " ('NUM_UNIQUE_OPERANDS', 'LOC_TOTAL', 1.5543122344752192e-15)]"
      ]
     },
     "execution_count": 13,
     "metadata": {},
     "output_type": "execute_result"
    }
   ],
   "source": [
    "pvalues=[]\n",
    "def myfunc(e):\n",
    "    return e[2]\n",
    "for x in ks_values:\n",
    "    pair=(x[0],x[1],x[2].pvalue)\n",
    "    pvalues.append(pair)\n",
    "pvalues.sort(reverse=True,key=myfunc)\n",
    "pvalues"
   ]
  },
  {
   "cell_type": "code",
   "execution_count": 14,
   "id": "2625f76f",
   "metadata": {},
   "outputs": [],
   "source": [
    "B = nx.Graph()\n",
    "B.add_nodes_from(top_features, bipartite=0)\n",
    "B.add_nodes_from(t_X.columns, bipartite=1)\n",
    "\n",
    "for x in pvalues:\n",
    "    u=x[0]\n",
    "    v=x[1]\n",
    "    w=x[2]\n",
    "    if w>=0.05:\n",
    "        B.add_edge(u, v, weight = w)"
   ]
  },
  {
   "cell_type": "code",
   "execution_count": 15,
   "id": "b34c4ca5",
   "metadata": {},
   "outputs": [
    {
     "data": {
      "text/plain": [
       "{('HALSTEAD_CONTENT', 'NUM_UNIQUE_OPERANDS')}"
      ]
     },
     "execution_count": 15,
     "metadata": {},
     "output_type": "execute_result"
    }
   ],
   "source": [
    "metric_matching= max_weight_matching(B)\n",
    "metric_matching"
   ]
  },
  {
   "cell_type": "code",
   "execution_count": 16,
   "id": "e02a8d85",
   "metadata": {},
   "outputs": [
    {
     "name": "stdout",
     "output_type": "stream",
     "text": [
      "['NUM_UNIQUE_OPERANDS', 'HALSTEAD_CONTENT'] ['HALSTEAD_CONTENT', 'NUM_UNIQUE_OPERANDS']\n"
     ]
    }
   ],
   "source": [
    "target_metrics=[]\n",
    "source_metrics=[]\n",
    "for x in top_features:\n",
    "    for y in metric_matching:\n",
    "        if y[0]==x:\n",
    "            target_metrics.append(y[1])\n",
    "            source_metrics.append(y[0])\n",
    "        if y[1]==x:\n",
    "            target_metrics.append(y[0])\n",
    "            source_metrics.append(y[1])\n",
    "print(target_metrics, source_metrics)"
   ]
  },
  {
   "cell_type": "markdown",
   "id": "1e545c44",
   "metadata": {},
   "source": [
    "# Experimental Design"
   ]
  },
  {
   "cell_type": "code",
   "execution_count": 17,
   "id": "5bc5e4ef",
   "metadata": {},
   "outputs": [],
   "source": [
    "s_X=s_X[source_metrics]"
   ]
  },
  {
   "cell_type": "code",
   "execution_count": 18,
   "id": "5c883356",
   "metadata": {},
   "outputs": [],
   "source": [
    "X_train, X_test, y_train, y_test = train_test_split(s_X, s_y, test_size=0.3, random_state=15)"
   ]
  },
  {
   "cell_type": "markdown",
   "id": "05d91a2b",
   "metadata": {},
   "source": [
    "## Logistic Regression"
   ]
  },
  {
   "cell_type": "code",
   "execution_count": 19,
   "id": "c71dc380",
   "metadata": {},
   "outputs": [],
   "source": [
    "model=LogisticRegression(solver='liblinear')"
   ]
  },
  {
   "cell_type": "code",
   "execution_count": 20,
   "id": "d06579c4",
   "metadata": {},
   "outputs": [],
   "source": [
    "model.fit(X_train,y_train)\n",
    "predictions=model.predict(X_test)"
   ]
  },
  {
   "cell_type": "code",
   "execution_count": 21,
   "id": "211e0d8d",
   "metadata": {},
   "outputs": [
    {
     "data": {
      "text/plain": [
       "array([[91,  0],\n",
       "       [ 7,  1]], dtype=int64)"
      ]
     },
     "execution_count": 21,
     "metadata": {},
     "output_type": "execute_result"
    }
   ],
   "source": [
    "confusion_matrix(y_test,predictions)"
   ]
  },
  {
   "cell_type": "code",
   "execution_count": 22,
   "id": "a6fefc9e",
   "metadata": {},
   "outputs": [
    {
     "data": {
      "text/plain": [
       "92.92929292929293"
      ]
     },
     "execution_count": 22,
     "metadata": {},
     "output_type": "execute_result"
    }
   ],
   "source": [
    "accuracy_score(y_test,predictions)*100"
   ]
  },
  {
   "cell_type": "code",
   "execution_count": 23,
   "id": "be5ae42c",
   "metadata": {
    "scrolled": true
   },
   "outputs": [
    {
     "data": {
      "text/plain": [
       "array([[1942,    0],\n",
       "       [  46,    0]], dtype=int64)"
      ]
     },
     "execution_count": 23,
     "metadata": {},
     "output_type": "execute_result"
    }
   ],
   "source": [
    "predictions=model.predict(t_X[target_metrics])\n",
    "confusion_matrix(t_y,predictions)"
   ]
  },
  {
   "cell_type": "code",
   "execution_count": 24,
   "id": "8c6bb9e0",
   "metadata": {},
   "outputs": [
    {
     "data": {
      "text/plain": [
       "97.68611670020121"
      ]
     },
     "execution_count": 24,
     "metadata": {},
     "output_type": "execute_result"
    }
   ],
   "source": [
    "accuracy_score(t_y,predictions)*100"
   ]
  },
  {
   "cell_type": "markdown",
   "id": "9ef6ddef",
   "metadata": {},
   "source": [
    "## Random Forest"
   ]
  },
  {
   "cell_type": "code",
   "execution_count": 25,
   "id": "6f954e16",
   "metadata": {},
   "outputs": [
    {
     "data": {
      "text/plain": [
       "RandomForestClassifier(max_features='sqrt')"
      ]
     },
     "execution_count": 25,
     "metadata": {},
     "output_type": "execute_result"
    }
   ],
   "source": [
    "rf_model = RandomForestClassifier(n_estimators=100, bootstrap = True, max_features = 'sqrt')\n",
    "\n",
    "rf_model.fit(X_train,y_train)"
   ]
  },
  {
   "cell_type": "code",
   "execution_count": 26,
   "id": "4ecd53d0",
   "metadata": {},
   "outputs": [
    {
     "data": {
      "text/plain": [
       "array([[87,  4],\n",
       "       [ 8,  0]], dtype=int64)"
      ]
     },
     "execution_count": 26,
     "metadata": {},
     "output_type": "execute_result"
    }
   ],
   "source": [
    "rf_model.fit(X_train,y_train)\n",
    "pred=rf_model.predict(X_test)\n",
    "confusion_matrix(y_test,pred)"
   ]
  },
  {
   "cell_type": "code",
   "execution_count": 27,
   "id": "c949f035",
   "metadata": {},
   "outputs": [
    {
     "data": {
      "text/plain": [
       "87.87878787878788"
      ]
     },
     "execution_count": 27,
     "metadata": {},
     "output_type": "execute_result"
    }
   ],
   "source": [
    "accuracy_score(y_test,pred)*100"
   ]
  },
  {
   "cell_type": "code",
   "execution_count": 28,
   "id": "bd259acf",
   "metadata": {},
   "outputs": [
    {
     "data": {
      "text/plain": [
       "array([[1920,   22],\n",
       "       [  45,    1]], dtype=int64)"
      ]
     },
     "execution_count": 28,
     "metadata": {},
     "output_type": "execute_result"
    }
   ],
   "source": [
    "pred=rf_model.predict(t_X[target_metrics])\n",
    "confusion_matrix(t_y,pred)"
   ]
  },
  {
   "cell_type": "code",
   "execution_count": 29,
   "id": "cceae0c4",
   "metadata": {},
   "outputs": [
    {
     "data": {
      "text/plain": [
       "96.6297786720322"
      ]
     },
     "execution_count": 29,
     "metadata": {},
     "output_type": "execute_result"
    }
   ],
   "source": [
    "accuracy_score(t_y,pred)*100"
   ]
  },
  {
   "cell_type": "markdown",
   "id": "da86fafd",
   "metadata": {},
   "source": [
    "## Support Vector Machine"
   ]
  },
  {
   "cell_type": "code",
   "execution_count": 30,
   "id": "a98666be",
   "metadata": {},
   "outputs": [
    {
     "data": {
      "text/plain": [
       "SVC(random_state=50)"
      ]
     },
     "execution_count": 30,
     "metadata": {},
     "output_type": "execute_result"
    }
   ],
   "source": [
    "classifier = SVC(kernel='rbf', random_state = 50)\n",
    "classifier.fit(X_train,y_train)"
   ]
  },
  {
   "cell_type": "code",
   "execution_count": 31,
   "id": "8b8e2fc0",
   "metadata": {},
   "outputs": [],
   "source": [
    "y_pred = classifier.predict(X_test)"
   ]
  },
  {
   "cell_type": "code",
   "execution_count": 32,
   "id": "c9346045",
   "metadata": {},
   "outputs": [
    {
     "name": "stdout",
     "output_type": "stream",
     "text": [
      "91.91919191919192\n"
     ]
    }
   ],
   "source": [
    "accuracy=accuracy_score(y_test,y_pred)\n",
    "print(accuracy*100)"
   ]
  },
  {
   "cell_type": "code",
   "execution_count": 33,
   "id": "261154b7",
   "metadata": {},
   "outputs": [],
   "source": [
    "y_pred = classifier.predict(t_X[target_metrics])"
   ]
  },
  {
   "cell_type": "code",
   "execution_count": 34,
   "id": "291400c0",
   "metadata": {},
   "outputs": [
    {
     "data": {
      "text/plain": [
       "array([[1942,    0],\n",
       "       [  46,    0]], dtype=int64)"
      ]
     },
     "execution_count": 34,
     "metadata": {},
     "output_type": "execute_result"
    }
   ],
   "source": [
    "cm = confusion_matrix(t_y,y_pred)\n",
    "cm"
   ]
  },
  {
   "cell_type": "code",
   "execution_count": 35,
   "id": "fcb4ee36",
   "metadata": {},
   "outputs": [
    {
     "name": "stdout",
     "output_type": "stream",
     "text": [
      "97.68611670020121\n"
     ]
    }
   ],
   "source": [
    "accuracy=accuracy_score(t_y,y_pred)\n",
    "print(accuracy*100)"
   ]
  },
  {
   "cell_type": "code",
   "execution_count": null,
   "id": "e78be907",
   "metadata": {},
   "outputs": [],
   "source": []
  },
  {
   "cell_type": "code",
   "execution_count": null,
   "id": "78bd7b61",
   "metadata": {},
   "outputs": [],
   "source": []
  }
 ],
 "metadata": {
  "kernelspec": {
   "display_name": "Python 3",
   "language": "python",
   "name": "python3"
  },
  "language_info": {
   "codemirror_mode": {
    "name": "ipython",
    "version": 3
   },
   "file_extension": ".py",
   "mimetype": "text/x-python",
   "name": "python",
   "nbconvert_exporter": "python",
   "pygments_lexer": "ipython3",
   "version": "3.8.8"
  }
 },
 "nbformat": 4,
 "nbformat_minor": 5
}
